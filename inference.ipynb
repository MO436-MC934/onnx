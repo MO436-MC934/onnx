{
 "cells": [
  {
   "cell_type": "markdown",
   "id": "eb041eb5",
   "metadata": {},
   "source": [
    "# Running the Inference for lenet model"
   ]
  },
  {
   "cell_type": "code",
   "execution_count": null,
   "id": "40f8d609",
   "metadata": {},
   "outputs": [],
   "source": [
    "import json\n",
    "import sys\n",
    "import os\n",
    "import time\n",
    "import numpy as np\n",
    "import cv2\n",
    "import onnx\n",
    "import onnxruntime\n",
    "from onnx import numpy_helper\n",
    "from IPython.display import Image"
   ]
  },
  {
   "cell_type": "code",
   "execution_count": null,
   "id": "88d91b8f",
   "metadata": {},
   "outputs": [],
   "source": [
    "model=\"./lenet.onnx\"\n",
    "path=\"./mnist/mnist_00.png\"\n",
    "Image(filename=path, width=256, height=256)\n",
    "#path=sys.argv[1]"
   ]
  },
  {
   "cell_type": "markdown",
   "id": "3a1c4e46",
   "metadata": {},
   "source": [
    "## Preprocessing the image"
   ]
  },
  {
   "cell_type": "code",
   "execution_count": null,
   "id": "58558fc2",
   "metadata": {},
   "outputs": [],
   "source": [
    "img = cv2.imread(path)\n",
    "img = np.dot(img[...,:3], [0.299, 0.587, 0.114])\n",
    "img = cv2.resize(img, dsize=(28, 28), interpolation=cv2.INTER_AREA)\n",
    "img.resize((1, 1, 28, 28))\n",
    "img = img / 255"
   ]
  },
  {
   "cell_type": "markdown",
   "id": "d0399656",
   "metadata": {},
   "source": [
    "## Create the inference session"
   ]
  },
  {
   "cell_type": "code",
   "execution_count": null,
   "id": "80825dfc",
   "metadata": {},
   "outputs": [],
   "source": [
    "data = json.dumps({'data': img.tolist()})\n",
    "data = np.array(json.loads(data)['data']).astype('float32')\n",
    "session = onnxruntime.InferenceSession(model, None)\n",
    "input_name = session.get_inputs()[0].name\n",
    "output_name = session.get_outputs()[0].name"
   ]
  },
  {
   "cell_type": "markdown",
   "id": "04945191",
   "metadata": {},
   "source": [
    "## Run model and print results"
   ]
  },
  {
   "cell_type": "code",
   "execution_count": null,
   "id": "55e529ac",
   "metadata": {},
   "outputs": [],
   "source": [
    "result = session.run([output_name], {input_name: data})\n",
    "prediction=int(np.argmax(np.array(result).squeeze(), axis=0))\n",
    "print(prediction)"
   ]
  }
 ],
 "metadata": {
  "@webio": {
   "lastCommId": null,
   "lastKernelId": null
  },
  "kernelspec": {
   "display_name": "Python 3 (ipykernel)",
   "language": "python",
   "name": "python3"
  },
  "language_info": {
   "codemirror_mode": {
    "name": "ipython",
    "version": 3
   },
   "file_extension": ".py",
   "mimetype": "text/x-python",
   "name": "python",
   "nbconvert_exporter": "python",
   "pygments_lexer": "ipython3",
   "version": "3.9.10"
  },
  "latex_envs": {
   "LaTeX_envs_menu_present": true,
   "autoclose": false,
   "autocomplete": true,
   "bibliofile": "biblio.bib",
   "cite_by": "apalike",
   "current_citInitial": 1,
   "eqLabelWithNumbers": true,
   "eqNumInitial": 1,
   "hotkeys": {
    "equation": "Ctrl-E",
    "itemize": "Ctrl-I"
   },
   "labels_anchors": false,
   "latex_user_defs": false,
   "report_style_numbering": false,
   "user_envs_cfg": false
  },
  "toc": {
   "base_numbering": 1,
   "nav_menu": {},
   "number_sections": true,
   "sideBar": true,
   "skip_h1_title": false,
   "title_cell": "Table of Contents",
   "title_sidebar": "Contents",
   "toc_cell": false,
   "toc_position": {},
   "toc_section_display": true,
   "toc_window_display": false
  }
 },
 "nbformat": 4,
 "nbformat_minor": 5
}
