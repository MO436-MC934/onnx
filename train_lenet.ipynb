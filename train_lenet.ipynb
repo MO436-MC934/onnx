{
 "cells": [
  {
   "cell_type": "markdown",
   "id": "3a5f74a5",
   "metadata": {},
   "source": [
    "# Training the lenet model"
   ]
  },
  {
   "cell_type": "code",
   "execution_count": null,
   "id": "60a72e9a",
   "metadata": {},
   "outputs": [],
   "source": [
    "import keras\n",
    "import tensorflow as tf\n",
    "import tf2onnx\n",
    "from tensorflow.keras.datasets import mnist\n",
    "from tensorflow.keras.utils import to_categorical\n",
    "from tensorflow.keras.callbacks import ModelCheckpoint\n",
    "from tensorflow.keras.models import Sequential\n",
    "from tensorflow.keras.layers import Conv2D\n",
    "from tensorflow.keras.layers import MaxPooling2D\n",
    "from tensorflow.keras.layers import Flatten\n",
    "from tensorflow.keras.layers import Dense"
   ]
  },
  {
   "cell_type": "markdown",
   "id": "3a188c0d",
   "metadata": {},
   "source": [
    "## Handles input data"
   ]
  },
  {
   "cell_type": "code",
   "execution_count": null,
   "id": "1cce9c7b",
   "metadata": {},
   "outputs": [],
   "source": [
    "(train_images, train_labels), (test_images, test_labels) = mnist.load_data()\n",
    "\n",
    "train_images = train_images.reshape((train_images.shape[0], 28, 28, 1))\n",
    "train_images = train_images.astype('float32') / 255\n",
    "test_images = test_images.reshape((test_images.shape[0], 28, 28, 1))\n",
    "test_images = test_images.astype('float32') / 255\n",
    "train_labels = to_categorical(train_labels)\n",
    "test_labels = to_categorical(test_labels)"
   ]
  },
  {
   "cell_type": "markdown",
   "id": "d3d643fc",
   "metadata": {},
   "source": [
    "## Design the model"
   ]
  },
  {
   "cell_type": "code",
   "execution_count": null,
   "id": "33265998",
   "metadata": {},
   "outputs": [],
   "source": [
    "model = Sequential()"
   ]
  },
  {
   "cell_type": "markdown",
   "id": "40dbb6cd",
   "metadata": {},
   "source": [
    "### Layer 1\n",
    "Conv layer 1"
   ]
  },
  {
   "cell_type": "code",
   "execution_count": null,
   "id": "f0d6cb28",
   "metadata": {},
   "outputs": [],
   "source": [
    "model.add(Conv2D(filters = 6, \n",
    "                 kernel_size = 5, \n",
    "                 strides = 1, \n",
    "                 activation = 'relu', \n",
    "                 input_shape = (28,28,1)))"
   ]
  },
  {
   "cell_type": "markdown",
   "id": "36acbea0",
   "metadata": {},
   "source": [
    "Pooling Layer 1"
   ]
  },
  {
   "cell_type": "code",
   "execution_count": null,
   "id": "3c82bf48",
   "metadata": {},
   "outputs": [],
   "source": [
    "model.add(MaxPooling2D(pool_size = 2, strides = 2))"
   ]
  },
  {
   "cell_type": "markdown",
   "id": "3f59f492",
   "metadata": {},
   "source": [
    "### Layer 2"
   ]
  },
  {
   "cell_type": "markdown",
   "id": "7238677f",
   "metadata": {},
   "source": [
    "Conv layer 2"
   ]
  },
  {
   "cell_type": "code",
   "execution_count": null,
   "id": "4ab85a55",
   "metadata": {},
   "outputs": [],
   "source": [
    "model.add(Conv2D(filters = 16, \n",
    "                 kernel_size = 5,\n",
    "                 strides = 1,\n",
    "                 activation = 'relu',\n",
    "                 input_shape = (14,14,6)))"
   ]
  },
  {
   "cell_type": "markdown",
   "id": "b7a99d66",
   "metadata": {},
   "source": [
    "Pooling layer 2"
   ]
  },
  {
   "cell_type": "code",
   "execution_count": null,
   "id": "2decf707",
   "metadata": {},
   "outputs": [],
   "source": [
    "model.add(MaxPooling2D(pool_size = 2, strides = 2))"
   ]
  },
  {
   "cell_type": "markdown",
   "id": "59f26735",
   "metadata": {},
   "source": [
    "Flatten"
   ]
  },
  {
   "cell_type": "code",
   "execution_count": null,
   "id": "76823172",
   "metadata": {},
   "outputs": [],
   "source": [
    "model.add(Flatten())"
   ]
  },
  {
   "cell_type": "markdown",
   "id": "17e9d3bb",
   "metadata": {},
   "source": [
    "### Layer 3\n",
    "Fully Connected Layer 3"
   ]
  },
  {
   "cell_type": "code",
   "execution_count": null,
   "id": "d3c050dd",
   "metadata": {},
   "outputs": [],
   "source": [
    "model.add(Dense(units = 120, activation = 'relu'))"
   ]
  },
  {
   "cell_type": "markdown",
   "id": "419139fd",
   "metadata": {},
   "source": [
    "### Layer 4\n",
    "Fully Connected Layer 4"
   ]
  },
  {
   "cell_type": "code",
   "execution_count": null,
   "id": "2f2c8c8c",
   "metadata": {},
   "outputs": [],
   "source": [
    "model.add(Dense(units = 84, activation = 'relu'))"
   ]
  },
  {
   "cell_type": "markdown",
   "id": "5c82020e",
   "metadata": {},
   "source": [
    "### Layer 5\n",
    "Output layer"
   ]
  },
  {
   "cell_type": "code",
   "execution_count": null,
   "id": "d8e6ca5c",
   "metadata": {},
   "outputs": [],
   "source": [
    "model.add(Dense(units = 10, activation = 'softmax'))\n",
    "model.summary()"
   ]
  },
  {
   "cell_type": "markdown",
   "id": "d3773b8e",
   "metadata": {},
   "source": [
    "### # define lossy optimization function"
   ]
  },
  {
   "cell_type": "code",
   "execution_count": null,
   "id": "88324831",
   "metadata": {},
   "outputs": [],
   "source": [
    "filepath = \"mnist-lenet-weights-{epoch:02d}-{loss:.4f}.hdf5\"\n",
    "checkpoint = ModelCheckpoint(filepath, monitor='loss', verbose=1,\n",
    "                                 save_best_only=True, mode='min')\n",
    "callbacks_list = [checkpoint]\n",
    "model.compile(optimizer='adam', loss='mean_squared_error',\n",
    "        metrics=['accuracy'])"
   ]
  },
  {
   "cell_type": "markdown",
   "id": "973fda4a",
   "metadata": {},
   "source": [
    "### Perform the training"
   ]
  },
  {
   "cell_type": "code",
   "execution_count": null,
   "id": "6ef25d0f",
   "metadata": {
    "scrolled": true
   },
   "outputs": [],
   "source": [
    "model.fit(train_images, train_labels, epochs=5, batch_size=64,\n",
    "              callbacks=callbacks_list)"
   ]
  },
  {
   "cell_type": "markdown",
   "id": "e01adc64",
   "metadata": {},
   "source": [
    "### Convert model from keras (h5) to ONNX (onnx)"
   ]
  },
  {
   "cell_type": "code",
   "execution_count": null,
   "id": "4785fd76",
   "metadata": {},
   "outputs": [],
   "source": [
    "tf2onnx.convert.from_keras(model, inputs_as_nchw=[model.inputs[0].name],\n",
    "        output_path = \"lenet.onnx\")"
   ]
  }
 ],
 "metadata": {
  "kernelspec": {
   "display_name": "Python 3 (ipykernel)",
   "language": "python",
   "name": "python3"
  },
  "language_info": {
   "codemirror_mode": {
    "name": "ipython",
    "version": 3
   },
   "file_extension": ".py",
   "mimetype": "text/x-python",
   "name": "python",
   "nbconvert_exporter": "python",
   "pygments_lexer": "ipython3",
   "version": "3.9.10"
  },
  "latex_envs": {
   "LaTeX_envs_menu_present": true,
   "autoclose": false,
   "autocomplete": true,
   "bibliofile": "biblio.bib",
   "cite_by": "apalike",
   "current_citInitial": 1,
   "eqLabelWithNumbers": true,
   "eqNumInitial": 1,
   "hotkeys": {
    "equation": "Ctrl-E",
    "itemize": "Ctrl-I"
   },
   "labels_anchors": false,
   "latex_user_defs": false,
   "report_style_numbering": false,
   "user_envs_cfg": false
  },
  "toc": {
   "base_numbering": 1,
   "nav_menu": {},
   "number_sections": true,
   "sideBar": true,
   "skip_h1_title": false,
   "title_cell": "Table of Contents",
   "title_sidebar": "Contents",
   "toc_cell": false,
   "toc_position": {},
   "toc_section_display": true,
   "toc_window_display": false
  }
 },
 "nbformat": 4,
 "nbformat_minor": 5
}
